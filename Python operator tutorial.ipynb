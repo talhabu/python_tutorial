{
 "cells": [
  {
   "cell_type": "markdown",
   "id": "8d25acfe",
   "metadata": {},
   "source": [
    "# Python Arithmetic Operators Tutorial"
   ]
  },
  {
   "cell_type": "code",
   "execution_count": 1,
   "id": "566f856c",
   "metadata": {},
   "outputs": [],
   "source": [
    "x = 10\n",
    "y = 5"
   ]
  },
  {
   "cell_type": "code",
   "execution_count": 2,
   "id": "2a651b7a",
   "metadata": {},
   "outputs": [
    {
     "name": "stdout",
     "output_type": "stream",
     "text": [
      "15\n"
     ]
    }
   ],
   "source": [
    "#addition operator\n",
    "a = x + y \n",
    "print(a)"
   ]
  },
  {
   "cell_type": "code",
   "execution_count": 3,
   "id": "dc7b8b80",
   "metadata": {},
   "outputs": [
    {
     "name": "stdout",
     "output_type": "stream",
     "text": [
      "5\n"
     ]
    }
   ],
   "source": [
    "#subtraction operator\n",
    "b = x - y\n",
    "print(b)"
   ]
  },
  {
   "cell_type": "code",
   "execution_count": 4,
   "id": "dd3ec943",
   "metadata": {},
   "outputs": [
    {
     "name": "stdout",
     "output_type": "stream",
     "text": [
      "50\n"
     ]
    }
   ],
   "source": [
    "#multiplication operator\n",
    "c = x*y \n",
    "print(c)"
   ]
  },
  {
   "cell_type": "code",
   "execution_count": 5,
   "id": "b585d345",
   "metadata": {},
   "outputs": [
    {
     "name": "stdout",
     "output_type": "stream",
     "text": [
      "2.0\n"
     ]
    }
   ],
   "source": [
    "#division operator\n",
    "d = x/y\n",
    "print(d)"
   ]
  },
  {
   "cell_type": "code",
   "execution_count": 6,
   "id": "65ce4ec2",
   "metadata": {},
   "outputs": [
    {
     "name": "stdout",
     "output_type": "stream",
     "text": [
      "2\n"
     ]
    }
   ],
   "source": [
    "#floor division operator\n",
    "e = x//y\n",
    "print(e)"
   ]
  },
  {
   "cell_type": "code",
   "execution_count": 8,
   "id": "d4dfb1e6",
   "metadata": {},
   "outputs": [
    {
     "name": "stdout",
     "output_type": "stream",
     "text": [
      "0\n",
      "2\n"
     ]
    }
   ],
   "source": [
    "#modulus operator\n",
    "f = x%y \n",
    "print(f)\n",
    "z = 4\n",
    "g = x%z\n",
    "print(g)"
   ]
  },
  {
   "cell_type": "markdown",
   "id": "f4d5e4ea",
   "metadata": {},
   "source": [
    "# Python Assignment Operators Tutorial"
   ]
  },
  {
   "cell_type": "code",
   "execution_count": 11,
   "id": "f4bc2b1a",
   "metadata": {},
   "outputs": [],
   "source": [
    "x = 10 #same as x = 10 like above first shell\n",
    "x += y #same as x+y\n",
    "x -= y #same as x-y\n",
    "x *= y #same as x * y\n",
    "x /= y # same as x / y\n",
    "x //= y #same as x // y\n",
    "x %= y #same as x % y\n"
   ]
  },
  {
   "cell_type": "markdown",
   "id": "58f0eeeb",
   "metadata": {},
   "source": [
    "# Python Comparison Operators Tutorial"
   ]
  },
  {
   "cell_type": "code",
   "execution_count": 12,
   "id": "ab80ee78",
   "metadata": {},
   "outputs": [
    {
     "name": "stdout",
     "output_type": "stream",
     "text": [
      "False\n"
     ]
    }
   ],
   "source": [
    "h = x == y #equal comparison\n",
    "print(h) \n",
    "# the result is False because x is not equal y"
   ]
  },
  {
   "cell_type": "code",
   "execution_count": 13,
   "id": "7eedb449",
   "metadata": {},
   "outputs": [
    {
     "name": "stdout",
     "output_type": "stream",
     "text": [
      "True\n"
     ]
    }
   ],
   "source": [
    "i = x != y #is not equal comparison\n",
    "print(i)\n",
    "# the result is True because x is not equal y"
   ]
  },
  {
   "cell_type": "code",
   "execution_count": 14,
   "id": "191c882e",
   "metadata": {},
   "outputs": [
    {
     "name": "stdout",
     "output_type": "stream",
     "text": [
      "True\n"
     ]
    }
   ],
   "source": [
    "j = x < y #less than comaprison\n",
    "print(j)"
   ]
  },
  {
   "cell_type": "code",
   "execution_count": 15,
   "id": "dabb569f",
   "metadata": {},
   "outputs": [
    {
     "name": "stdout",
     "output_type": "stream",
     "text": [
      "True\n"
     ]
    }
   ],
   "source": [
    "k = y > x #grater than comparison\n",
    "print(k)"
   ]
  },
  {
   "cell_type": "code",
   "execution_count": 16,
   "id": "0f125b03",
   "metadata": {},
   "outputs": [
    {
     "name": "stdout",
     "output_type": "stream",
     "text": [
      "True\n"
     ]
    }
   ],
   "source": [
    "l = x <= y #greater than or equal to\n",
    "print(l)"
   ]
  },
  {
   "cell_type": "code",
   "execution_count": 17,
   "id": "cc23f264",
   "metadata": {},
   "outputs": [
    {
     "name": "stdout",
     "output_type": "stream",
     "text": [
      "True\n"
     ]
    }
   ],
   "source": [
    "m = y >= x #less than or equal to\n",
    "print(m)"
   ]
  },
  {
   "cell_type": "markdown",
   "id": "83107262",
   "metadata": {},
   "source": [
    "# Python Logical Operators Turorial"
   ]
  },
  {
   "cell_type": "code",
   "execution_count": 19,
   "id": "55b3cc44",
   "metadata": {},
   "outputs": [
    {
     "name": "stdout",
     "output_type": "stream",
     "text": [
      "False\n",
      "True\n"
     ]
    }
   ],
   "source": [
    "#And operator\n",
    "n = x <= y and x == y \n",
    "o = x <= y and y >= x\n",
    "print(n)\n",
    "print(o)\n",
    "#Returns True if both statements are true\n",
    "#Returns False if a statement is false"
   ]
  },
  {
   "cell_type": "code",
   "execution_count": 23,
   "id": "c7953cdc",
   "metadata": {},
   "outputs": [
    {
     "name": "stdout",
     "output_type": "stream",
     "text": [
      "True\n",
      "False\n"
     ]
    }
   ],
   "source": [
    "#Or Operator\n",
    "p = x <= y or x == y \n",
    "q = y <= x or x >= y\n",
    "print(p)\n",
    "print(q)\n",
    "#Returns True if a statement is true\n",
    "#Returns False if both statements are false"
   ]
  },
  {
   "cell_type": "code",
   "execution_count": 25,
   "id": "2f22c990",
   "metadata": {},
   "outputs": [
    {
     "name": "stdout",
     "output_type": "stream",
     "text": [
      "True\n",
      "False\n"
     ]
    }
   ],
   "source": [
    "#Not operator\n",
    "r = not (x <= y and x == y)\n",
    "s = not (y <= x or x >= y)\n",
    "print(p)\n",
    "print(q)\n",
    "#Reverse the result, returns False if the result is true"
   ]
  },
  {
   "cell_type": "code",
   "execution_count": null,
   "id": "c627d7f7",
   "metadata": {},
   "outputs": [],
   "source": []
  }
 ],
 "metadata": {
  "kernelspec": {
   "display_name": "Python 3 (ipykernel)",
   "language": "python",
   "name": "python3"
  },
  "language_info": {
   "codemirror_mode": {
    "name": "ipython",
    "version": 3
   },
   "file_extension": ".py",
   "mimetype": "text/x-python",
   "name": "python",
   "nbconvert_exporter": "python",
   "pygments_lexer": "ipython3",
   "version": "3.9.12"
  }
 },
 "nbformat": 4,
 "nbformat_minor": 5
}
