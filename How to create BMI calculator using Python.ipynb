{
 "cells": [
  {
   "cell_type": "markdown",
   "id": "8837c1f0",
   "metadata": {},
   "source": [
    "# Convert inches to centimeter"
   ]
  },
  {
   "cell_type": "code",
   "execution_count": 2,
   "id": "74c514b7",
   "metadata": {},
   "outputs": [
    {
     "name": "stdout",
     "output_type": "stream",
     "text": [
      "Enter the amount in inches: 68\n",
      "172.72\n",
      "1 inch is 2.54 centimeters.\n"
     ]
    }
   ],
   "source": [
    "m_inch = float(input(\"Enter the amount in inches: \")) # will collection user data in inches\n",
    "\n",
    "m_cm = m_inch*2.54 # converts from inches to cm\n",
    "\n",
    "inches = 1\n",
    "centimeters = 1\n",
    "convert = centimeters * 2.54\n",
    "print (m_cm) \n",
    "print (\"1 inch is %s centimeters.\" % convert)"
   ]
  },
  {
   "cell_type": "markdown",
   "id": "653bdef4",
   "metadata": {},
   "source": [
    "# Convert inches to meter"
   ]
  },
  {
   "cell_type": "code",
   "execution_count": 18,
   "id": "0f9ec253",
   "metadata": {},
   "outputs": [
    {
     "name": "stdout",
     "output_type": "stream",
     "text": [
      "Enter Your Height in inches: 64\n",
      "Your Height in meter is 1.6256\n"
     ]
    }
   ],
   "source": [
    "inches = float(input('Enter Your Height in inches: '))\n",
    "in2mt = inches * 0.0254\n",
    "print('Your Height in meter is', in2mt)"
   ]
  },
  {
   "cell_type": "markdown",
   "id": "b9bc6bc0",
   "metadata": {},
   "source": [
    "# One Code BMI"
   ]
  },
  {
   "cell_type": "code",
   "execution_count": 1,
   "id": "19fe895b",
   "metadata": {},
   "outputs": [
    {
     "name": "stdout",
     "output_type": "stream",
     "text": [
      "Enter Your Height in inches: 68\n",
      "Enter Your Weight: 78\n",
      "Your BMI is 26.14624606411843\n",
      "You are Overweight\n"
     ]
    }
   ],
   "source": [
    "inches = float(input('Enter Your Height in inches: '))\n",
    "weight = float(input('Enter Your Weight: '))\n",
    "height = inches * 0.0254\n",
    "bmi = weight / height ** 2\n",
    "print('Your BMI is', bmi)\n",
    "if bmi < 18.5:\n",
    "    print('You are Underweight')\n",
    "elif bmi >= 18.5 and bmi < 25:\n",
    "    print('You are Godfit, GREAT!')\n",
    "elif bmi >= 25 and bmi < 30:\n",
    "    print('You are Overweight')\n",
    "elif bmi >= 30:\n",
    "    print('You are Obese, Oh! no..')"
   ]
  },
  {
   "cell_type": "markdown",
   "id": "ef37bd1c",
   "metadata": {},
   "source": [
    "# BMI Calculator "
   ]
  },
  {
   "cell_type": "code",
   "execution_count": 19,
   "id": "16c0958b",
   "metadata": {},
   "outputs": [
    {
     "name": "stdout",
     "output_type": "stream",
     "text": [
      "Enter Your Height: 1.62\n",
      "Enter Your Weight: 74\n",
      "Your BMI is 28.19692120103642\n",
      "You are Overweight\n"
     ]
    }
   ],
   "source": [
    "height = float(input('Enter Your Height: '))\n",
    "weight = float(input('Enter Your Weight: '))\n",
    "bmi = weight / height ** 2\n",
    "print('Your BMI is', bmi)\n",
    "if bmi < 18.5:\n",
    "    print('You are Underweight')\n",
    "elif bmi >= 18.5 and bmi < 25:\n",
    "    print('You are Godfit, GREAT!')\n",
    "elif bmi >= 25 and bmi < 30:\n",
    "    print('You are Overweight')\n",
    "elif bmi >= 30:\n",
    "    print('You are Obese, Oh! no..')"
   ]
  },
  {
   "cell_type": "code",
   "execution_count": 17,
   "id": "e0fbb996",
   "metadata": {},
   "outputs": [
    {
     "name": "stdout",
     "output_type": "stream",
     "text": [
      "Your Height: 68\n",
      "0.5789720588235294\n"
     ]
    }
   ],
   "source": [
    "inch = float(input('Your Height: '))\n",
    "in2m = 39.3701 / inch\n",
    "print(in2m)"
   ]
  }
 ],
 "metadata": {
  "kernelspec": {
   "display_name": "Python 3 (ipykernel)",
   "language": "python",
   "name": "python3"
  },
  "language_info": {
   "codemirror_mode": {
    "name": "ipython",
    "version": 3
   },
   "file_extension": ".py",
   "mimetype": "text/x-python",
   "name": "python",
   "nbconvert_exporter": "python",
   "pygments_lexer": "ipython3",
   "version": "3.9.12"
  }
 },
 "nbformat": 4,
 "nbformat_minor": 5
}
