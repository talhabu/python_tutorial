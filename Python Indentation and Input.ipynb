{
 "cells": [
  {
   "cell_type": "markdown",
   "id": "04417e85",
   "metadata": {},
   "source": [
    "# Python Indentaton"
   ]
  },
  {
   "cell_type": "code",
   "execution_count": 1,
   "id": "6c5c062a",
   "metadata": {},
   "outputs": [
    {
     "name": "stdout",
     "output_type": "stream",
     "text": [
      "Python\n"
     ]
    }
   ],
   "source": [
    "#indentation refer to a space from the very begening of a code\n",
    "x = 'Python'\n",
    "print(x)"
   ]
  },
  {
   "cell_type": "code",
   "execution_count": 2,
   "id": "8d08a4c5",
   "metadata": {},
   "outputs": [
    {
     "name": "stdout",
     "output_type": "stream",
     "text": [
      "P\n"
     ]
    }
   ],
   "source": [
    "#the space number starts from 0\n",
    "print(x[0])"
   ]
  },
  {
   "cell_type": "code",
   "execution_count": 4,
   "id": "5ad1ef9b",
   "metadata": {},
   "outputs": [
    {
     "name": "stdout",
     "output_type": "stream",
     "text": [
      "t\n"
     ]
    }
   ],
   "source": [
    "print(x[2])"
   ]
  },
  {
   "cell_type": "code",
   "execution_count": 8,
   "id": "1332abdf",
   "metadata": {},
   "outputs": [
    {
     "name": "stdout",
     "output_type": "stream",
     "text": [
      "p 0\n",
      "y 1\n",
      "t 2\n",
      "h 3\n",
      "o 4\n",
      "n 5\n"
     ]
    }
   ],
   "source": [
    "data = 'python'\n",
    "for x in range(len(data)):\n",
    "    print(data[x], x) #this print took 4 space"
   ]
  },
  {
   "cell_type": "markdown",
   "id": "0ab231c9",
   "metadata": {},
   "source": [
    "# Python Input"
   ]
  },
  {
   "cell_type": "code",
   "execution_count": 14,
   "id": "0ab2035b",
   "metadata": {},
   "outputs": [
    {
     "name": "stdout",
     "output_type": "stream",
     "text": [
      "Enter Your Name: Abu Talha\n"
     ]
    }
   ],
   "source": [
    "a = input(str('Enter Your Name: '))"
   ]
  },
  {
   "cell_type": "code",
   "execution_count": 11,
   "id": "3bb5d34d",
   "metadata": {},
   "outputs": [
    {
     "name": "stdout",
     "output_type": "stream",
     "text": [
      "I am fine\n",
      "How are you?:  I am fine\n"
     ]
    }
   ],
   "source": [
    "a = input()\n",
    "print('How are you?: ',a)"
   ]
  },
  {
   "cell_type": "code",
   "execution_count": 19,
   "id": "f8e1b730",
   "metadata": {},
   "outputs": [
    {
     "name": "stdout",
     "output_type": "stream",
     "text": [
      "5\n",
      "5\n",
      "10\n"
     ]
    }
   ],
   "source": [
    "x = int(input())\n",
    "y = int(input())\n",
    "print(x+y)"
   ]
  },
  {
   "cell_type": "code",
   "execution_count": null,
   "id": "a4d80602",
   "metadata": {},
   "outputs": [],
   "source": []
  }
 ],
 "metadata": {
  "kernelspec": {
   "display_name": "Python 3 (ipykernel)",
   "language": "python",
   "name": "python3"
  },
  "language_info": {
   "codemirror_mode": {
    "name": "ipython",
    "version": 3
   },
   "file_extension": ".py",
   "mimetype": "text/x-python",
   "name": "python",
   "nbconvert_exporter": "python",
   "pygments_lexer": "ipython3",
   "version": "3.9.12"
  }
 },
 "nbformat": 4,
 "nbformat_minor": 5
}
