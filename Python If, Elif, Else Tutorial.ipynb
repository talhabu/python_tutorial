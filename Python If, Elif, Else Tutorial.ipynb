{
 "cells": [
  {
   "cell_type": "markdown",
   "id": "42d1a2d0",
   "metadata": {},
   "source": [
    "# Python If, Elif, Else Tutorial"
   ]
  },
  {
   "cell_type": "code",
   "execution_count": 1,
   "id": "1b5987c5",
   "metadata": {},
   "outputs": [],
   "source": [
    "x = 20\n",
    "y = 15\n",
    "z = 10"
   ]
  },
  {
   "cell_type": "code",
   "execution_count": 6,
   "id": "09d166d4",
   "metadata": {},
   "outputs": [
    {
     "name": "stdout",
     "output_type": "stream",
     "text": [
      "How are you?\n"
     ]
    }
   ],
   "source": [
    "#if function needs a condition and an output\n",
    "if x > y: #condition\n",
    "    print('How are you?') #output"
   ]
  },
  {
   "cell_type": "code",
   "execution_count": 7,
   "id": "650c117c",
   "metadata": {},
   "outputs": [
    {
     "name": "stdout",
     "output_type": "stream",
     "text": [
      "I am fine\n"
     ]
    }
   ],
   "source": [
    "#else define if condition doesn't match what will be the output\n",
    "if x < y:\n",
    "    print('How are you?')\n",
    "else:\n",
    "    print('I am fine')"
   ]
  },
  {
   "cell_type": "code",
   "execution_count": 8,
   "id": "7c61f020",
   "metadata": {},
   "outputs": [
    {
     "name": "stdout",
     "output_type": "stream",
     "text": [
      "What are you doing?\n"
     ]
    }
   ],
   "source": [
    "#we can use multiple condition using elif for each individual condition in a if function\n",
    "if x == y:\n",
    "    print('How are you?')\n",
    "elif x > y:\n",
    "    print('What are you doing?')\n",
    "else:\n",
    "    print('I am fine')"
   ]
  },
  {
   "cell_type": "code",
   "execution_count": null,
   "id": "457ff247",
   "metadata": {},
   "outputs": [],
   "source": [
    "#if function always take the output from the very first matching condition\n",
    "if x == y:\n",
    "    print('How are you?')\n",
    "elif x < y:\n",
    "    print('What are you doing?')\n",
    "elif z < y:\n",
    "    print('How is everything?')\n",
    "elif x > z:\n",
    "    print('I am okay')\n",
    "else:\n",
    "    print('I am fine')"
   ]
  }
 ],
 "metadata": {
  "kernelspec": {
   "display_name": "Python 3 (ipykernel)",
   "language": "python",
   "name": "python3"
  },
  "language_info": {
   "codemirror_mode": {
    "name": "ipython",
    "version": 3
   },
   "file_extension": ".py",
   "mimetype": "text/x-python",
   "name": "python",
   "nbconvert_exporter": "python",
   "pygments_lexer": "ipython3",
   "version": "3.9.12"
  }
 },
 "nbformat": 4,
 "nbformat_minor": 5
}
