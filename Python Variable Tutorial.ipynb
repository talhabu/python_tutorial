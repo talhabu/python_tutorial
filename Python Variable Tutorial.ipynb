{
 "cells": [
  {
   "cell_type": "markdown",
   "id": "b537cd9b",
   "metadata": {},
   "source": [
    "# Python Variable Tutorial"
   ]
  },
  {
   "cell_type": "code",
   "execution_count": 1,
   "id": "23d6d360",
   "metadata": {},
   "outputs": [],
   "source": [
    "#variable is a symbolic name that contain data\n",
    "var = 100"
   ]
  },
  {
   "cell_type": "code",
   "execution_count": 2,
   "id": "c83bcdb4",
   "metadata": {},
   "outputs": [
    {
     "name": "stdout",
     "output_type": "stream",
     "text": [
      "100\n"
     ]
    }
   ],
   "source": [
    "#how to make output on python\n",
    "print(var)"
   ]
  },
  {
   "cell_type": "code",
   "execution_count": 3,
   "id": "9ba08e13",
   "metadata": {},
   "outputs": [],
   "source": [
    "#multiple variable \n",
    "a,b,c = 10, 20, 30"
   ]
  },
  {
   "cell_type": "code",
   "execution_count": 4,
   "id": "03db5413",
   "metadata": {},
   "outputs": [
    {
     "name": "stdout",
     "output_type": "stream",
     "text": [
      "10\n",
      "20\n",
      "30\n"
     ]
    }
   ],
   "source": [
    "print(a)\n",
    "print(b)\n",
    "print(c)"
   ]
  },
  {
   "cell_type": "code",
   "execution_count": 5,
   "id": "7d53bee9",
   "metadata": {},
   "outputs": [
    {
     "name": "stdout",
     "output_type": "stream",
     "text": [
      "50\n"
     ]
    }
   ],
   "source": [
    "#multiword_variable_best_Practice\n",
    "my_first_multiword_variable = 50\n",
    "print(my_first_multiword_variable)"
   ]
  },
  {
   "cell_type": "code",
   "execution_count": 6,
   "id": "191dd54c",
   "metadata": {},
   "outputs": [
    {
     "name": "stdout",
     "output_type": "stream",
     "text": [
      "Python Variable Tutorial\n"
     ]
    }
   ],
   "source": [
    "#variable can be stored numberic or alphabetic character\n",
    "x = ('Python Variable Tutorial') #keep general alphabetic data in quatation mark\n",
    "print (x) #x is a variable name so, it doesn't need quatation. "
   ]
  },
  {
   "cell_type": "code",
   "execution_count": 9,
   "id": "aa8019c1",
   "metadata": {},
   "outputs": [
    {
     "name": "stdout",
     "output_type": "stream",
     "text": [
      "This is local variable\n",
      "This is global variable\n"
     ]
    }
   ],
   "source": [
    "#Global vs Local variables\n",
    "x = 'global variable' #global variable\n",
    "\n",
    "def myfunc():\n",
    "  x = 'local variable' #local variable always stay in a function\n",
    "  print('This is ' + x)\n",
    "\n",
    "myfunc()\n",
    "\n",
    "print('This is ' + x)"
   ]
  },
  {
   "cell_type": "code",
   "execution_count": null,
   "id": "817c19f0",
   "metadata": {},
   "outputs": [],
   "source": []
  }
 ],
 "metadata": {
  "kernelspec": {
   "display_name": "Python 3 (ipykernel)",
   "language": "python",
   "name": "python3"
  },
  "language_info": {
   "codemirror_mode": {
    "name": "ipython",
    "version": 3
   },
   "file_extension": ".py",
   "mimetype": "text/x-python",
   "name": "python",
   "nbconvert_exporter": "python",
   "pygments_lexer": "ipython3",
   "version": "3.9.12"
  }
 },
 "nbformat": 4,
 "nbformat_minor": 5
}
