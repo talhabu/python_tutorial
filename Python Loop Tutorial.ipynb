{
 "cells": [
  {
   "cell_type": "markdown",
   "id": "ee514f58",
   "metadata": {},
   "source": [
    "# Python For Loop"
   ]
  },
  {
   "cell_type": "code",
   "execution_count": 1,
   "id": "d5547b14",
   "metadata": {},
   "outputs": [
    {
     "name": "stdout",
     "output_type": "stream",
     "text": [
      "4\n",
      "5\n",
      "python\n",
      "loop\n",
      "tutorial\n"
     ]
    }
   ],
   "source": [
    "#2 types of loop 'for' loop and 'while' loop\n",
    "#for loop\n",
    "a = [4, 5, 'python', 'loop', 'tutorial']\n",
    "\n",
    "for x in a:\n",
    "    print(x)"
   ]
  },
  {
   "cell_type": "code",
   "execution_count": 2,
   "id": "c39570ba",
   "metadata": {},
   "outputs": [
    {
     "name": "stdout",
     "output_type": "stream",
     "text": [
      "This is my first loop 4\n",
      "This is my first loop 5\n",
      "This is my first loop python\n",
      "This is my first loop loop\n",
      "This is my first loop tutorial\n"
     ]
    }
   ],
   "source": [
    "for x in a:\n",
    "    print('This is my first loop', x)"
   ]
  },
  {
   "cell_type": "code",
   "execution_count": 3,
   "id": "41d5cf29",
   "metadata": {},
   "outputs": [
    {
     "name": "stdout",
     "output_type": "stream",
     "text": [
      "20\n"
     ]
    }
   ],
   "source": [
    "data = 'Python loop tutorial'\n",
    "\n",
    "print(len(data))"
   ]
  },
  {
   "cell_type": "code",
   "execution_count": 10,
   "id": "0318f332",
   "metadata": {},
   "outputs": [
    {
     "name": "stdout",
     "output_type": "stream",
     "text": [
      "P 0\n",
      "y 1\n",
      "t 2\n",
      "h 3\n",
      "o 4\n",
      "n 5\n",
      "  6\n",
      "l 7\n",
      "o 8\n",
      "o 9\n",
      "p 10\n",
      "  11\n",
      "t 12\n",
      "u 13\n",
      "t 14\n",
      "o 15\n",
      "r 16\n",
      "i 17\n",
      "a 18\n",
      "l 19\n"
     ]
    }
   ],
   "source": [
    "for x in range(len(data)):\n",
    "    print(data[x], x)"
   ]
  },
  {
   "cell_type": "code",
   "execution_count": 11,
   "id": "c2dfb2eb",
   "metadata": {},
   "outputs": [
    {
     "data": {
      "text/plain": [
       "['Python', 'loop', 'tutorial']"
      ]
     },
     "execution_count": 11,
     "metadata": {},
     "output_type": "execute_result"
    }
   ],
   "source": [
    "data.split()"
   ]
  },
  {
   "cell_type": "code",
   "execution_count": 13,
   "id": "7d5aa774",
   "metadata": {},
   "outputs": [
    {
     "name": "stdout",
     "output_type": "stream",
     "text": [
      "Python\n",
      "loop\n",
      "tutorial\n"
     ]
    }
   ],
   "source": [
    "data = data.split()\n",
    "for x in range(len(data)):\n",
    "    print(data[x])"
   ]
  },
  {
   "cell_type": "code",
   "execution_count": 17,
   "id": "48cf0766",
   "metadata": {},
   "outputs": [
    {
     "name": "stdout",
     "output_type": "stream",
     "text": [
      "2\n",
      "5\n",
      "9\n",
      "14\n",
      "20\n"
     ]
    }
   ],
   "source": [
    "num = [2, 3, 4, 5, 6]\n",
    "total = 0\n",
    "for x in num:\n",
    "    total = total+x\n",
    "    print(total)"
   ]
  },
  {
   "cell_type": "code",
   "execution_count": 20,
   "id": "fa901352",
   "metadata": {},
   "outputs": [
    {
     "name": "stdout",
     "output_type": "stream",
     "text": [
      "Python Loop 0\n",
      "Python Loop 1\n",
      "Python Loop 2\n",
      "Python Loop 3\n",
      "Python Loop 4\n",
      "Python Loop 5\n",
      "Python Loop 6\n",
      "Python Loop 7\n",
      "Python Loop 8\n",
      "Python Loop 9\n"
     ]
    }
   ],
   "source": [
    "for x in range(10):\n",
    "    print('Python Loop', x)"
   ]
  },
  {
   "cell_type": "markdown",
   "id": "09808548",
   "metadata": {},
   "source": [
    "# Python While Loop"
   ]
  },
  {
   "cell_type": "code",
   "execution_count": 21,
   "id": "30daa773",
   "metadata": {},
   "outputs": [
    {
     "name": "stdout",
     "output_type": "stream",
     "text": [
      "1\n",
      "2\n",
      "3\n",
      "4\n",
      "5\n",
      "6\n",
      "7\n",
      "8\n",
      "9\n",
      "10\n",
      "11\n"
     ]
    }
   ],
   "source": [
    "i = 0\n",
    "while i <= 10:\n",
    "    i += 1\n",
    "    print(i)"
   ]
  },
  {
   "cell_type": "code",
   "execution_count": 22,
   "id": "5b363735",
   "metadata": {},
   "outputs": [
    {
     "name": "stdout",
     "output_type": "stream",
     "text": [
      "Python while loop 1\n",
      "Python while loop 2\n",
      "Python while loop 3\n",
      "Python while loop 4\n",
      "Python while loop 5\n",
      "Python while loop 6\n",
      "Python while loop 7\n",
      "Python while loop 8\n",
      "Python while loop 9\n",
      "Python while loop 10\n",
      "Python while loop 11\n"
     ]
    }
   ],
   "source": [
    "i = 0\n",
    "while i <= 10:\n",
    "    i += 1\n",
    "    print('Python while loop', i)"
   ]
  },
  {
   "cell_type": "code",
   "execution_count": 23,
   "id": "a818e833",
   "metadata": {},
   "outputs": [
    {
     "name": "stdout",
     "output_type": "stream",
     "text": [
      "Python loop 2\n",
      "Python loop 4\n",
      "Python loop 6\n",
      "Python loop 8\n",
      "Python loop 10\n",
      "Python loop 12\n"
     ]
    }
   ],
   "source": [
    "i = 0\n",
    "while i <= 10:\n",
    "    i += 2\n",
    "    print('Python loop', i)"
   ]
  },
  {
   "cell_type": "code",
   "execution_count": null,
   "id": "7ce1f482",
   "metadata": {},
   "outputs": [],
   "source": []
  }
 ],
 "metadata": {
  "kernelspec": {
   "display_name": "Python 3 (ipykernel)",
   "language": "python",
   "name": "python3"
  },
  "language_info": {
   "codemirror_mode": {
    "name": "ipython",
    "version": 3
   },
   "file_extension": ".py",
   "mimetype": "text/x-python",
   "name": "python",
   "nbconvert_exporter": "python",
   "pygments_lexer": "ipython3",
   "version": "3.9.12"
  }
 },
 "nbformat": 4,
 "nbformat_minor": 5
}
